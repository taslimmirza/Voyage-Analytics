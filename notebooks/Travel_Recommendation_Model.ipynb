{
  "nbformat": 4,
  "nbformat_minor": 0,
  "metadata": {
    "colab": {
      "provenance": []
    },
    "kernelspec": {
      "name": "python3",
      "display_name": "Python 3"
    },
    "language_info": {
      "name": "python"
    }
  },
  "cells": [
    {
      "cell_type": "code",
      "execution_count": 2,
      "metadata": {
        "colab": {
          "base_uri": "https://localhost:8080/"
        },
        "id": "LFRNTrefPps6",
        "outputId": "3113451c-db33-4713-e638-5786f7ad82b3"
      },
      "outputs": [
        {
          "output_type": "stream",
          "name": "stdout",
          "text": [
            "Reconstruction Error: hotel_id\n",
            "0       2.935113\n",
            "1      23.993150\n",
            "2       0.414198\n",
            "3      13.824629\n",
            "4       5.400451\n",
            "5    4870.784689\n",
            "6      19.158635\n",
            "7       4.164845\n",
            "8       1.743386\n",
            "dtype: float64\n"
          ]
        },
        {
          "output_type": "execute_result",
          "data": {
            "text/plain": [
              "['user_encoder.pkl']"
            ]
          },
          "metadata": {},
          "execution_count": 2
        }
      ],
      "source": [
        "# 1. Loading the Dataset\n",
        "import pandas as pd\n",
        "\n",
        "# Load the hotels dataset\n",
        "hotels = pd.read_csv('hotels.csv')\n",
        "\n",
        "# 2. Data Preprocessing\n",
        "from sklearn.preprocessing import LabelEncoder\n",
        "\n",
        "# Encode categorical features\n",
        "hotel_encoder = LabelEncoder()\n",
        "hotels['hotel_id'] = hotel_encoder.fit_transform(hotels['name'])\n",
        "\n",
        "user_encoder = LabelEncoder()\n",
        "hotels['user_id'] = user_encoder.fit_transform(hotels['userCode'])\n",
        "\n",
        "# 3. Feature Engineering\n",
        "data = hotels[['user_id', 'hotel_id', 'total']]\n",
        "\n",
        "# 4. Model Training\n",
        "# Using matrix factorization for collaborative filtering\n",
        "from sklearn.decomposition import TruncatedSVD\n",
        "\n",
        "# Create a matrix of users x hotels, filling missing values with zeros\n",
        "matrix = data.pivot_table(index='user_id', columns='hotel_id', values='total').fillna(0)\n",
        "\n",
        "# Determine the number of components\n",
        "num_components = min(matrix.shape) - 1  # One less than the smaller dimension of the matrix\n",
        "\n",
        "# Apply Truncated SVD for dimensionality reduction\n",
        "svd = TruncatedSVD(n_components=num_components, random_state=42)\n",
        "latent_matrix = svd.fit_transform(matrix)\n",
        "\n",
        "# 5. Model Evaluation\n",
        "reconstructed_matrix = svd.inverse_transform(latent_matrix)\n",
        "reconstruction_error = ((matrix - reconstructed_matrix) ** 2).mean()\n",
        "\n",
        "print(f'Reconstruction Error: {reconstruction_error}')\n",
        "\n",
        "# 6. Saving the Trained Model\n",
        "import joblib\n",
        "\n",
        "joblib.dump(svd, 'hotel_recommendation_model.pkl')\n",
        "joblib.dump(hotel_encoder, 'hotel_encoder.pkl')\n",
        "joblib.dump(user_encoder, 'user_encoder.pkl')\n"
      ]
    }
  ]
}