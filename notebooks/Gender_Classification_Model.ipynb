{
  "nbformat": 4,
  "nbformat_minor": 0,
  "metadata": {
    "colab": {
      "provenance": []
    },
    "kernelspec": {
      "name": "python3",
      "display_name": "Python 3"
    },
    "language_info": {
      "name": "python"
    }
  },
  "cells": [
    {
      "cell_type": "code",
      "source": [
        "# 1. Loading the Dataset\n",
        "import pandas as pd\n",
        "\n",
        "# Load the users dataset\n",
        "users = pd.read_csv('users.csv')\n",
        "\n",
        "# 2. Data Preprocessing\n",
        "from sklearn.model_selection import train_test_split\n",
        "from sklearn.preprocessing import OneHotEncoder, StandardScaler, LabelEncoder\n",
        "import numpy as np\n",
        "\n",
        "# Handling categorical variables\n",
        "company_encoder = OneHotEncoder()\n",
        "company_features = company_encoder.fit_transform(users[['company']])\n",
        "\n",
        "# Scaling numerical features\n",
        "scaler = StandardScaler()\n",
        "age_feature = scaler.fit_transform(users[['age']])\n",
        "\n",
        "# Combine features\n",
        "X = np.concatenate([company_features.toarray(), age_feature], axis=1)\n",
        "\n",
        "# Target variable (gender)\n",
        "y = users['gender']\n",
        "\n",
        "# Encode target variable\n",
        "gender_encoder = LabelEncoder()\n",
        "y_encoded = gender_encoder.fit_transform(y)\n",
        "\n",
        "# Split the dataset into training and test sets\n",
        "X_train, X_test, y_train, y_test = train_test_split(X, y_encoded, test_size=0.2, random_state=42)\n",
        "\n",
        "# 3. Model Training\n",
        "from sklearn.ensemble import RandomForestClassifier\n",
        "from sklearn.metrics import accuracy_score, classification_report\n",
        "\n",
        "# Train a classification model\n",
        "classifier = RandomForestClassifier()\n",
        "classifier.fit(X_train, y_train)\n",
        "\n",
        "# Predict on test data\n",
        "y_pred = classifier.predict(X_test)\n",
        "\n",
        "# 4. Model Validation\n",
        "# Calculate accuracy and other metrics\n",
        "accuracy = accuracy_score(y_test, y_pred)\n",
        "report = classification_report(y_test, y_pred)\n",
        "\n",
        "print(f'Accuracy: {accuracy}')\n",
        "print(report)\n",
        "\n",
        "# 5. Saving the Trained Model\n",
        "import joblib\n",
        "\n",
        "joblib.dump(classifier, 'gender_classification_model.pkl')\n",
        "\n",
        "# 6. Saving the Encoder and Scaler\n",
        "joblib.dump(company_encoder, 'company_encoder.pkl')\n",
        "joblib.dump(scaler, 'age_scaler.pkl')\n",
        "joblib.dump(gender_encoder, 'gender_encoder.pkl')\n"
      ],
      "metadata": {
        "colab": {
          "base_uri": "https://localhost:8080/"
        },
        "id": "UR1n-Yc5CjFH",
        "outputId": "d520d399-2eb1-4758-9103-3346753550ee"
      },
      "execution_count": 2,
      "outputs": [
        {
          "output_type": "stream",
          "name": "stdout",
          "text": [
            "Accuracy: 0.2947761194029851\n",
            "              precision    recall  f1-score   support\n",
            "\n",
            "           0       0.29      0.29      0.29        89\n",
            "           1       0.29      0.23      0.26        94\n",
            "           2       0.30      0.36      0.33        85\n",
            "\n",
            "    accuracy                           0.29       268\n",
            "   macro avg       0.29      0.30      0.29       268\n",
            "weighted avg       0.29      0.29      0.29       268\n",
            "\n"
          ]
        },
        {
          "output_type": "execute_result",
          "data": {
            "text/plain": [
              "['gender_encoder.pkl']"
            ]
          },
          "metadata": {},
          "execution_count": 2
        }
      ]
    }
  ]
}