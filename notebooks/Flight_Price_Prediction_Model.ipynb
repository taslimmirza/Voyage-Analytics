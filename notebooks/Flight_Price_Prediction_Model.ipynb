{
  "nbformat": 4,
  "nbformat_minor": 0,
  "metadata": {
    "colab": {
      "provenance": []
    },
    "kernelspec": {
      "name": "python3",
      "display_name": "Python 3"
    },
    "language_info": {
      "name": "python"
    }
  },
  "cells": [
    {
      "cell_type": "markdown",
      "source": [
        "**1. Loading the Dataset**"
      ],
      "metadata": {
        "id": "Vn-5lY3S-zC0"
      }
    },
    {
      "cell_type": "code",
      "execution_count": 1,
      "metadata": {
        "id": "zVtITL6C-P5o"
      },
      "outputs": [],
      "source": [
        "import pandas as pd\n",
        "\n",
        "# Load the flights dataset\n",
        "flights = pd.read_csv('flights.csv')\n"
      ]
    },
    {
      "cell_type": "markdown",
      "source": [
        "**2. Data Preprocessing**"
      ],
      "metadata": {
        "id": "IkkmE3Mm-8jV"
      }
    },
    {
      "cell_type": "code",
      "source": [
        "from sklearn.model_selection import train_test_split\n",
        "from sklearn.preprocessing import OneHotEncoder, StandardScaler\n",
        "import numpy as np\n",
        "\n",
        "# Handle categorical variables\n",
        "encoder = OneHotEncoder()\n",
        "categorical_features = encoder.fit_transform(flights[['from', 'to', 'flightType', 'agency']])\n",
        "\n",
        "# Scale numerical features (removed 'age' as it's not in the flights dataset)\n",
        "scaler = StandardScaler()\n",
        "numerical_features = scaler.fit_transform(flights[['time', 'distance']])\n",
        "\n",
        "# Combine features\n",
        "X = np.concatenate([categorical_features.toarray(), numerical_features], axis=1)\n",
        "\n",
        "# Target variable\n",
        "y = flights['price'].values\n",
        "\n",
        "# Split the dataset into training and test sets\n",
        "X_train, X_test, y_train, y_test = train_test_split(X, y, test_size=0.2, random_state=42)\n"
      ],
      "metadata": {
        "id": "AeTAjOBX--gT"
      },
      "execution_count": 3,
      "outputs": []
    },
    {
      "cell_type": "markdown",
      "source": [
        "**3. Feature Selection**"
      ],
      "metadata": {
        "id": "VX5jqcwl_Bbs"
      }
    },
    {
      "cell_type": "code",
      "source": [
        "from sklearn.feature_selection import SelectKBest, f_regression\n",
        "\n",
        "# Select top k features\n",
        "selector = SelectKBest(f_regression, k='all')\n",
        "X_train_selected = selector.fit_transform(X_train, y_train)\n",
        "X_test_selected = selector.transform(X_test)\n"
      ],
      "metadata": {
        "id": "Le2FZJ1V_DtU"
      },
      "execution_count": 4,
      "outputs": []
    },
    {
      "cell_type": "markdown",
      "source": [
        "**4. Model Training**"
      ],
      "metadata": {
        "id": "kKOXoZbY_Frx"
      }
    },
    {
      "cell_type": "code",
      "source": [
        "from sklearn.linear_model import LinearRegression\n",
        "from sklearn.metrics import mean_squared_error\n",
        "\n",
        "# Train a regression model\n",
        "regressor = LinearRegression()\n",
        "regressor.fit(X_train_selected, y_train)\n",
        "\n",
        "# Predict on test data\n",
        "y_pred = regressor.predict(X_test_selected)\n"
      ],
      "metadata": {
        "id": "QgzAQ7E3_HSM"
      },
      "execution_count": 5,
      "outputs": []
    },
    {
      "cell_type": "markdown",
      "source": [
        "**5. Model Validation**"
      ],
      "metadata": {
        "id": "GBH4dBTM_I-r"
      }
    },
    {
      "cell_type": "code",
      "source": [
        "from sklearn.metrics import r2_score\n",
        "\n",
        "# Calculate R^2 and RMSE\n",
        "r2 = r2_score(y_test, y_pred)\n",
        "rmse = mean_squared_error(y_test, y_pred, squared=False)\n",
        "\n",
        "print(f'R^2: {r2}')\n",
        "print(f'RMSE: {rmse}')\n"
      ],
      "metadata": {
        "colab": {
          "base_uri": "https://localhost:8080/"
        },
        "id": "ViDbyhMN_Nbx",
        "outputId": "62e00da3-a481-4051-a4f7-92836e86f8ac"
      },
      "execution_count": 6,
      "outputs": [
        {
          "output_type": "stream",
          "name": "stdout",
          "text": [
            "R^2: 0.9192493441024164\n",
            "RMSE: 103.15255513142583\n"
          ]
        }
      ]
    },
    {
      "cell_type": "markdown",
      "source": [
        "**6.Saving the Trained Model**"
      ],
      "metadata": {
        "id": "fq_kUNdfAYqq"
      }
    },
    {
      "cell_type": "code",
      "source": [
        "import joblib\n",
        "\n",
        "joblib.dump(regressor, 'flight_price_model.pkl')\n"
      ],
      "metadata": {
        "colab": {
          "base_uri": "https://localhost:8080/"
        },
        "id": "WkQLaTUwAd7f",
        "outputId": "60aeef27-7d05-4626-fa93-ec65c8296b16"
      },
      "execution_count": 7,
      "outputs": [
        {
          "output_type": "execute_result",
          "data": {
            "text/plain": [
              "['flight_price_model.pkl']"
            ]
          },
          "metadata": {},
          "execution_count": 7
        }
      ]
    },
    {
      "cell_type": "markdown",
      "source": [
        "**7.Saving the Encoder and Scaler**"
      ],
      "metadata": {
        "id": "aIbDGuExDdIz"
      }
    },
    {
      "cell_type": "code",
      "source": [
        "joblib.dump(encoder, 'encoder.pkl')\n",
        "joblib.dump(scaler, 'scaler.pkl')\n"
      ],
      "metadata": {
        "colab": {
          "base_uri": "https://localhost:8080/"
        },
        "id": "kYhKC4AQDgLe",
        "outputId": "b0f7c2f2-e1a1-4432-8bba-1f358495182b"
      },
      "execution_count": 8,
      "outputs": [
        {
          "output_type": "execute_result",
          "data": {
            "text/plain": [
              "['scaler.pkl']"
            ]
          },
          "metadata": {},
          "execution_count": 8
        }
      ]
    }
  ]
}